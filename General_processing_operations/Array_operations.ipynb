{
 "cells": [
  {
   "cell_type": "markdown",
   "id": "e2356625-6da7-4654-b71e-0d830da375fc",
   "metadata": {},
   "source": [
    "Notebook containing miscellaneous array operations, often used to check processed arrays appear as expected."
   ]
  },
  {
   "cell_type": "code",
   "execution_count": null,
   "id": "ab3974e0-e1ed-49a8-8623-0e7b4cc3ecf2",
   "metadata": {},
   "outputs": [],
   "source": [
    "import os\n",
    "import numpy as np\n",
    "import pandas as pd"
   ]
  },
  {
   "cell_type": "code",
   "execution_count": null,
   "id": "964afbb1-a3bc-42e5-a79c-c063991fa88a",
   "metadata": {
    "scrolled": true
   },
   "outputs": [],
   "source": [
    "# Print the length of the all the arrays in a given folder\n",
    "# Define the folder path containing the .npy files\n",
    "folder_path = '/gws/nopw/j04/bas_climate/users/clelland/model/training_north_all/'\n",
    "\n",
    "# Iterate through each file in the folder\n",
    "for file_name in os.listdir(folder_path):\n",
    "    # Check if the file has a .npy extension\n",
    "    if file_name.startswith('training_north_0123'):\n",
    "    #if file_name.endswith('mcd_array.npy'):\n",
    "        try:\n",
    "            # Load the numpy array\n",
    "            array = np.load(os.path.join(folder_path, file_name))\n",
    "            \n",
    "            # Print the length of the array\n",
    "            print(f\"Length of {file_name}: {len(array)}\")\n",
    "        except Exception as e:\n",
    "            # Print an error message if loading fails\n",
    "            print(f\"Error loading {file_name}: {e}\")"
   ]
  },
  {
   "cell_type": "code",
   "execution_count": null,
   "id": "31274424-9df6-443a-9d84-34fbacd706c8",
   "metadata": {
    "scrolled": true
   },
   "outputs": [],
   "source": [
    "# Print the length of the all the csvs in a given folder\n",
    "# Define the folder path containing the .csv files\n",
    "folder_path = '/home/users/clelland/Model/Analysis/CMIP and FWI time series/Ecoregion CSVs/'\n",
    "\n",
    "# List to store file names and their lengths\n",
    "file_lengths = []\n",
    "\n",
    "# Iterate through each file in the folder\n",
    "for file_name in os.listdir(folder_path):\n",
    "    if file_name.endswith('.csv'):\n",
    "        file_path = os.path.join(folder_path, file_name)\n",
    "        try:\n",
    "            df = pd.read_csv(file_path)\n",
    "            file_lengths.append((file_name, len(df)))\n",
    "        except Exception as e:\n",
    "            print(f\"Error loading {file_name}: {e}\")\n",
    "\n",
    "# Sort by length, then filename\n",
    "file_lengths.sort(key=lambda x: (x[1], x[0]))\n",
    "\n",
    "# Print sorted results\n",
    "for file_name, length in file_lengths:\n",
    "    print(f\"Length of {file_name}: {length}\")"
   ]
  },
  {
   "cell_type": "code",
   "execution_count": null,
   "id": "c874a47e-802b-467f-8acf-952e21bd57eb",
   "metadata": {},
   "outputs": [],
   "source": [
    "# Rename an array\n",
    "# Load the existing array\n",
    "old_filename = \"/home/users/clelland/Model/upscaled_tem_g1_single_north.npy\"\n",
    "array = np.load(old_filename)\n",
    "\n",
    "# Save the array with a new name\n",
    "new_filename = \"/gws/nopw/j04/bas_climate/users/clelland/model/testing_north/testing_north_2023_11_land_g1_array.npy\"\n",
    "np.save(new_filename, array)\n",
    "\n",
    "print(f\"Array saved as {new_filename}\")"
   ]
  },
  {
   "cell_type": "code",
   "execution_count": null,
   "id": "e3482fb0-fe2f-452a-97bd-a9a1212cc9d5",
   "metadata": {},
   "outputs": [],
   "source": [
    "top_band_names = ['elevation', 'slope', 'aspect', 'land_cover_og', 'firecci', 'mcd', 'month', 'latitude', 'longitude_sine']\n",
    "fwi_band_names = ['BUI', 'DC', 'DMC', 'FFMC', 'FWI', 'ISI']\n",
    "clim_band_names = ['rh', 'pr_sum', 'rlds', 'rsds', 'sfcWind', 't2m', 'mx2t', 'mn2t']"
   ]
  },
  {
   "cell_type": "code",
   "execution_count": null,
   "id": "a4c2778d-b2cc-4c8f-a2b8-9efbcefae2fa",
   "metadata": {},
   "outputs": [],
   "source": [
    "# Rename an array and remove the original array\n",
    "# Load the existing array\n",
    "old_filename = \"/gws/nopw/j04/bas_climate/users/clelland/model/training_south_all/training_south_2123_pr_sum_array.npy\"\n",
    "array = np.load(old_filename)\n",
    "\n",
    "# Save the array with a new name\n",
    "new_filename = \"/gws/nopw/j04/bas_climate/users/clelland/model/training_south_all/training_south_e5l_2123_pr_sum_array.npy\"\n",
    "np.save(new_filename, array)\n",
    "\n",
    "print(f\"Array saved as {new_filename}\")\n",
    "\n",
    "# Remove the original file\n",
    "if os.path.exists(old_filename):\n",
    "    os.remove(old_filename)\n",
    "    print(f\"Original file '{old_filename}' has been removed.\")\n",
    "else:\n",
    "    print(f\"Original file '{old_filename}' does not exist.\")"
   ]
  },
  {
   "cell_type": "code",
   "execution_count": null,
   "id": "7dcbce37-d1a8-4d5a-b633-a57abdcb4c5d",
   "metadata": {},
   "outputs": [],
   "source": [
    "# Count the number of files in a given directory\n",
    "def count_files_in_directory(directory_path):\n",
    "    try:\n",
    "        # Get the list of all files and subdirectories in the directory\n",
    "        all_items = os.listdir(directory_path)\n",
    "        \n",
    "        # Filter only files\n",
    "        files = [item for item in all_items if os.path.isfile(os.path.join(directory_path, item))]\n",
    "        \n",
    "        # Count the files\n",
    "        file_count = len(files)\n",
    "        return file_count\n",
    "    except FileNotFoundError:\n",
    "        print(f\"The directory '{directory_path}' does not exist.\")\n",
    "        return 0\n",
    "\n",
    "directory_path = \"/gws/nopw/j04/bas_climate/users/clelland/model/testing_access_south/ssp126\"\n",
    "file_count = count_files_in_directory(directory_path)\n",
    "print(f\"There are {file_count} files in the directory '{directory_path}'.\")"
   ]
  },
  {
   "cell_type": "code",
   "execution_count": null,
   "id": "352ba48c-ee61-4c0e-a5c7-505fdf933365",
   "metadata": {},
   "outputs": [],
   "source": [
    "# Repeat an array X times and save\n",
    "original_array = np.load('/home/users/clelland/Model/upscaled_tem_g1_single_north.npy')\n",
    "\n",
    "# Number of repetitions\n",
    "X = 204\n",
    "\n",
    "# Repeating the array\n",
    "repeated_array = np.tile(original_array, (X, 1))\n",
    "\n",
    "# File path to save the array\n",
    "file_path_npy = \"/gws/nopw/j04/bas_climate/users/clelland/model/training_north/training_north_0120_land_g1_array_reduced.npy\"\n",
    "\n",
    "# Save as .npy\n",
    "np.save(file_path_npy, repeated_array)\n",
    "print(\"Length of array: \", len(repeated_array))"
   ]
  },
  {
   "cell_type": "code",
   "execution_count": null,
   "id": "d5293e2f-75ec-46b5-a88a-4177e98445bf",
   "metadata": {},
   "outputs": [],
   "source": [
    "# Copy an array to a new location\n",
    "original_array = np.load('/gws/nopw/j04/bas_climate/users/clelland/model/testing_south/testing_south_2008_12_month_array.npy')\n",
    "\n",
    "# File path to save the array\n",
    "file_path_npy = \"/gws/nopw/j04/bas_climate/users/clelland/model/testing_access_south/single_south_month_12_array.npy\"\n",
    "\n",
    "# Save as .npy\n",
    "np.save(file_path_npy, original_array)\n",
    "print(\"Length of array: \", len(original_array))"
   ]
  },
  {
   "cell_type": "code",
   "execution_count": null,
   "id": "9229a581-39db-4669-9a29-29c179e61754",
   "metadata": {},
   "outputs": [],
   "source": [
    "# Find the number of burned pixels in the final north/south regions (and the max value)\n",
    "firecci_north = np.load('/gws/nopw/j04/bas_climate/users/clelland/model/training_north_all/training_north_0120_firecci_array.npy')\n",
    "firecci_south = np.load('/gws/nopw/j04/bas_climate/users/clelland/model/training_south_all/training_south_0120_firecci_array.npy')\n",
    "\n",
    "print(\"Burned pixels in north: \", np.sum(firecci_north))\n",
    "print(\"Burned pixels in south: \", np.sum(firecci_south))\n",
    "#print(\"North max: \", firecci_north.max())\n",
    "#print(\"South max: \", firecci_south.max())"
   ]
  },
  {
   "cell_type": "code",
   "execution_count": null,
   "id": "fffbfd4b-a573-48af-9049-b190a5adb08f",
   "metadata": {},
   "outputs": [],
   "source": [
    "# Find the max of a given variable\n",
    "test_north = np.load('/gws/nopw/j04/bas_climate/users/clelland/model/testing_north/testing_north_e5l_2015_7_pr_sum_array.npy')\n",
    "#test_north = np.load('/home/users/clelland/Model/lat_south_single.npy')\n",
    "test_south = np.load('/gws/nopw/j04/bas_climate/users/clelland/model/testing_access_north/ssp126/testing_access_north_ssp126_2072_7_pr_array.npy')\n",
    "#test_south = np.load('/home/users/clelland/Model/lat_south_single.npy')\n",
    "\n",
    "print(\"North max: \", np.nanmean(test_north)) # Ignoring NaNs\n",
    "print(\"South max: \", np.nanmean(test_south))"
   ]
  },
  {
   "cell_type": "code",
   "execution_count": null,
   "id": "0fb10036-de03-44a9-8822-b74de5a94082",
   "metadata": {},
   "outputs": [],
   "source": [
    "# Find the number of unique values in a given array\n",
    "test_lat = np.load('/home/users/clelland/Model/lat_south_single.npy')\n",
    "test_lon = np.load('/home/users/clelland/Model/lon_south_single.npy')\n",
    "\n",
    "round_lat = np.round(test_lat, decimals=2)\n",
    "round_lon = np.round(test_lon, decimals=2)\n",
    "\n",
    "lat_unique, lat_counts = np.unique(round_lat, return_counts=True)\n",
    "lon_unique, lon_counts = np.unique(round_lon, return_counts=True)\n",
    "\n",
    "print(\"Lats: \", len(lat_counts))\n",
    "print(\"Lons: \", len(lon_counts))"
   ]
  },
  {
   "cell_type": "code",
   "execution_count": null,
   "id": "f4ddc93c-c042-4c6c-963b-5d3be57dd30d",
   "metadata": {},
   "outputs": [],
   "source": [
    "# Find the point at which lons go past 0 (for N America North)\n",
    "north_lon = np.load('/home/users/clelland/Model/lon_north_single.npy')\n",
    "# Find the first index where longitude > 0\n",
    "index = np.argmax(north_lon > 0)\n",
    "\n",
    "# Get the corresponding longitude value\n",
    "first_positive_longitude = north_lon[index]\n",
    "\n",
    "print(f\"Index: {index}, Longitude: {first_positive_longitude}\")\n",
    "# at 610507\n",
    "\n",
    "# Slice the array\n",
    "subset = north_lon[:610507]\n",
    "\n",
    "print(subset)"
   ]
  },
  {
   "cell_type": "code",
   "execution_count": null,
   "id": "e10bcf32-beb1-47a9-94dd-d8a53909d114",
   "metadata": {},
   "outputs": [],
   "source": [
    "# Shorten, repeat and save arrays\n",
    "original = np.load('/gws/nopw/j04/bas_climate/users/clelland/model/training_north_all/training_north_2123_slope_array.npy')\n",
    "shortened = original[:610507]\n",
    "\n",
    "# Slice the array\n",
    "subset = original[610504:610510]\n",
    "\n",
    "print(subset)\n",
    "\n",
    "# Repeating the array\n",
    "repeated_array = np.tile(shortened, (35, 1))\n",
    "\n",
    "# File path to save the array\n",
    "file_path_npy = \"/gws/nopw/j04/bas_climate/users/clelland/model/temp_files/training_north_2123_slope_array_short.npy\"\n",
    "\n",
    "# Save as .npy\n",
    "np.save(file_path_npy, repeated_array)\n",
    "print(\"Length of array: \", len(repeated_array))"
   ]
  },
  {
   "cell_type": "code",
   "execution_count": null,
   "id": "ee5cb27a-7a34-4cb4-b3e2-7e024524642e",
   "metadata": {},
   "outputs": [],
   "source": [
    "# Take the first 610507 values from each month and save as new arrays\n",
    "original = np.load('/gws/nopw/j04/bas_climate/users/clelland/model/training_north_all/training_north_e5l_2123_t2m_array.npy')\n",
    "\n",
    "# Define parameters\n",
    "take_size = 610507\n",
    "skip_size = 686662\n",
    "num_iterations = 35\n",
    "\n",
    "# Initialize an empty list to store segments\n",
    "segments = []\n",
    "\n",
    "# Start index for taking values\n",
    "start_idx = 0\n",
    "\n",
    "for _ in range(num_iterations):\n",
    "    # Ensure we don't go beyond the array length\n",
    "    if start_idx + take_size > len(original):\n",
    "        break\n",
    "    \n",
    "    # Take the required segment\n",
    "    segments.append(original[start_idx:start_idx + take_size])\n",
    "    \n",
    "    # Move start index forward by take_size + skip_size\n",
    "    start_idx += take_size + skip_size\n",
    "\n",
    "# Concatenate all segments into a single array\n",
    "final_array = np.concatenate(segments, axis=0)\n",
    "\n",
    "# File path to save the array\n",
    "file_path_npy = \"/gws/nopw/j04/bas_climate/users/clelland/model/temp_files/training_north_e5l_2123_t2m_array_short.npy\"\n",
    "\n",
    "# Save as .npy\n",
    "np.save(file_path_npy, final_array)\n",
    "print(\"Length of final array:\", len(final_array))"
   ]
  },
  {
   "cell_type": "code",
   "execution_count": null,
   "id": "861f6eb6-d32d-4d55-8e26-2594027979de",
   "metadata": {},
   "outputs": [],
   "source": [
    "# Combine arrays\n",
    "array1 = np.load('/gws/nopw/j04/bas_climate/users/clelland/model/training_north_all/training_north_0120_firecci_array.npy')\n",
    "array2 = np.load('/gws/nopw/j04/bas_climate/users/clelland/model/temp_files/training_north_2123_mcd_array_short.npy')\n",
    "\n",
    "# Combine the arrays\n",
    "combined_array = np.concatenate((array1, array2))\n",
    "\n",
    "# Save the combined array\n",
    "np.save('/gws/nopw/j04/bas_climate/users/clelland/model/training_north_all/training_north_0123_fire_array.npy', combined_array)\n",
    "\n",
    "# Print a confirmation message\n",
    "print(\"Combined array for fire saved.\")"
   ]
  },
  {
   "cell_type": "code",
   "execution_count": null,
   "id": "f3a424b6-a11c-4673-b7dd-dbc0bff5b33f",
   "metadata": {},
   "outputs": [],
   "source": []
  }
 ],
 "metadata": {
  "kernelspec": {
   "display_name": "Python 3 + Jaspy",
   "language": "python",
   "name": "jaspy"
  },
  "language_info": {
   "codemirror_mode": {
    "name": "ipython",
    "version": 3
   },
   "file_extension": ".py",
   "mimetype": "text/x-python",
   "name": "python",
   "nbconvert_exporter": "python",
   "pygments_lexer": "ipython3",
   "version": "3.11.9"
  }
 },
 "nbformat": 4,
 "nbformat_minor": 5
}
