{
 "cells": [
  {
   "cell_type": "markdown",
   "id": "2684fa18-e5a2-4182-876e-a3b3d8167405",
   "metadata": {},
   "source": [
    "Code to make the shapefile for the whole study region and the base topographic layers. Then format the grouped land cover map and convert it into a full length NumPy array for use in model training.\n",
    "\n",
    "Note that the final grid to iterate over the shapefile, as used in `bucket_to_array` can be found in `Fire_weather_data_comparison/Process_CEMS_and_NASA_fire_weather_data.ipynb`."
   ]
  },
  {
   "cell_type": "markdown",
   "id": "f92a49fc-10f0-40a5-a388-ad361f1dd93a",
   "metadata": {
    "jp-MarkdownHeadingCollapsed": true
   },
   "source": [
    "## Imports"
   ]
  },
  {
   "cell_type": "code",
   "execution_count": null,
   "id": "3ed583bc-df0d-4e28-ae42-1da1511698f8",
   "metadata": {},
   "outputs": [],
   "source": [
    "import numpy as np\n",
    "import ee\n",
    "ee.Authenticate()\n",
    "ee.Initialize(project='spherical-berm-323321')"
   ]
  },
  {
   "cell_type": "code",
   "execution_count": null,
   "id": "c269cf8a-a870-4b5f-964b-613e60f50120",
   "metadata": {},
   "outputs": [],
   "source": [
    "final = ee.FeatureCollection('users/andyc97/model_shapefiles/final_shapefile')\n",
    "final_grid = ee.FeatureCollection('users/andyc97/model_shapefiles/final_grid')\n",
    "south_siberia = ee.FeatureCollection('users/andyc97/model_shapefiles/south_siberia_final')\n",
    "final_north = ee.FeatureCollection('users/andyc97/model_shapefiles/final_north')"
   ]
  },
  {
   "cell_type": "markdown",
   "id": "32547659-00d5-420a-a081-d71f7866b346",
   "metadata": {
    "jp-MarkdownHeadingCollapsed": true
   },
   "source": [
    "## Make final shapefile for whole region"
   ]
  },
  {
   "cell_type": "code",
   "execution_count": null,
   "id": "301a47ee-bca5-4cd7-8c69-6c28ab4e7144",
   "metadata": {},
   "outputs": [],
   "source": [
    "# Load the ecoregions\n",
    "ecoRegions = ee.FeatureCollection('RESOLVE/ECOREGIONS/2017')\n",
    "\n",
    "# Apply filters\n",
    "biome_filter = ee.Filter.inList('BIOME_NUM', [6, 11])\n",
    "realm_filter = ee.Filter.inList('REALM', ['Nearctic', 'Palearctic'])\n",
    "combined_filter = ee.Filter.And(biome_filter, realm_filter)\n",
    "selected_regions = ecoRegions.filter(combined_filter)"
   ]
  },
  {
   "cell_type": "code",
   "execution_count": null,
   "id": "2bfc78d8-bab2-45f3-b4de-6fb8379c3784",
   "metadata": {},
   "outputs": [],
   "source": [
    "# Export monthly image to asset - edit as necessary\n",
    "task = ee.batch.Export.table.toAsset(\n",
    "    collection=selected_regions,\n",
    "    description='final_shapefile',\n",
    "    assetId='users/andyc97/model_preprocessed/final_shapefile',\n",
    "    maxPixels=1e13)\n",
    "task.start()"
   ]
  },
  {
   "cell_type": "markdown",
   "id": "78ccbb54-d0c2-4df9-a0c2-993525b24b7a",
   "metadata": {
    "jp-MarkdownHeadingCollapsed": true
   },
   "source": [
    "## Base topographic layers"
   ]
  },
  {
   "cell_type": "code",
   "execution_count": null,
   "id": "62328040-919a-4c8d-bf32-da06cc7955fc",
   "metadata": {},
   "outputs": [],
   "source": [
    "# TEM Land Cover map - original is EPSG:6931\n",
    "#tem_map = ee.Image('users/andyc97/model_shapefiles/TEM_LandCover_Map_V3')\n",
    "tem_map = ee.Image('users/andyc97/model_shapefiles/TEM_LandCover_Map_V3_Grouped_V1')\n",
    "tem_map = tem_map.updateMask(tem_map.neq(0)).toFloat()\n",
    "upscaled_tem = tem_map.reproject(crs='EPSG:6931', scale=4000)\n",
    "final_LandMask = upscaled_tem.multiply(0).add(1).unmask(0).updateMask(upscaled_tem.neq(0))\n",
    "\n",
    "# Copernicus map for elevation, slope and aspect\n",
    "# WILL DROP SOME EDGE PIXELS AT 30m WHEN DERIVING SLOPE AND ASPECT\n",
    "dataset = ee.ImageCollection('COPERNICUS/DEM/GLO30')\n",
    "elevation = dataset.select('DEM').max().setDefaultProjection(dataset.first().projection())\n",
    "slope = ee.Terrain.slope(elevation)\n",
    "aspect = ee.Terrain.aspect(elevation)\n",
    "\n",
    "upscaled_elevation = elevation.reproject(crs='EPSG:6931', scale=4000)\n",
    "upscaled_slope = ee.Terrain.slope(upscaled_elevation)\n",
    "upscaled_aspect = ee.Terrain.aspect(upscaled_elevation)\n",
    "\n",
    "# Final base landcover image\n",
    "base_land_final = upscaled_elevation.addBands(upscaled_slope).addBands(upscaled_aspect).addBands(upscaled_tem).updateMask(upscaled_aspect).updateMask(final_LandMask)"
   ]
  },
  {
   "cell_type": "code",
   "execution_count": null,
   "id": "ce8d70b0-37b2-433c-913b-8167965a28e0",
   "metadata": {},
   "outputs": [],
   "source": [
    "# Export monthly image to asset\n",
    "task = ee.batch.Export.image.toAsset(\n",
    "    image=base_land_final,\n",
    "    description='base_land_final',\n",
    "    assetId='users/andyc97/model_shapefiles/final_baseland',\n",
    "    region=final.geometry(),\n",
    "    scale=4000,\n",
    "    crs='EPSG:6931',\n",
    "    maxPixels=1e9)\n",
    "task.start()"
   ]
  },
  {
   "cell_type": "markdown",
   "id": "43689a7c-6d93-41fb-a0f2-3053f7467255",
   "metadata": {
    "jp-MarkdownHeadingCollapsed": true
   },
   "source": [
    "## Refined land cover layer"
   ]
  },
  {
   "cell_type": "code",
   "execution_count": null,
   "id": "85dca5c5-ac41-4d3b-9c39-3c96cc12d693",
   "metadata": {},
   "outputs": [],
   "source": [
    "loaded_image = ee.Image('users/andyc97/model_shapefiles/TEM_LandCover_Map_V3_Grouped_V1')\n",
    "upscaled_loaded = loaded_image.updateMask(loaded_image.neq(100)).reproject(crs='EPSG:6931', scale=4000)\n",
    "\n",
    "tem_map = ee.Image('users/andyc97/model_shapefiles/TEM_LandCover_Map_V3')\n",
    "tem_map = tem_map.updateMask(tem_map.neq(0)).toFloat()\n",
    "upscaled_tem = tem_map.reproject(crs='EPSG:6931', scale=4000)\n",
    "\n",
    "final_LandMask = upscaled_tem.multiply(0).add(1).unmask(0).updateMask(upscaled_tem.neq(0))\n",
    "\n",
    "base_land = ee.Image('users/andyc97/model_shapefiles/final_baseland')\n",
    "aspect = base_land.select('aspect').reproject(crs='EPSG:6931', scale=4000)\n",
    "\n",
    "era5land = ee.ImageCollection(\"ECMWF/ERA5_LAND/MONTHLY_AGGR\").filterDate('2001-01-01', '2001-01-31')\n",
    "t2m = era5land.select('temperature_2m').mean().reproject(crs='EPSG:6931', scale=4000)\n",
    "\n",
    "final_image = upscaled_loaded.updateMask(aspect).updateMask(t2m).clip(final).updateMask(final_LandMask).reproject(crs='EPSG:6931', scale=4000)"
   ]
  },
  {
   "cell_type": "code",
   "execution_count": null,
   "id": "4ba3e1ce-05b2-48b3-bc68-77a66966d4f9",
   "metadata": {},
   "outputs": [],
   "source": [
    "# Export monthly image to cloud bucket\n",
    "task = ee.batch.Export.image.toCloudStorage(\n",
    "    image=final_image,\n",
    "    description='tem_g1',\n",
    "    bucket='clelland_fire_ml',\n",
    "    fileNamePrefix='upscaled_tem_landcover_map_g1',\n",
    "    region=final_LandMask.geometry(),\n",
    "    scale=4000,\n",
    "    crs='EPSG:6931',\n",
    "    maxPixels=1e9,\n",
    "    formatOptions={'cloudOptimized': True}\n",
    ")\n",
    "task.start()"
   ]
  },
  {
   "cell_type": "markdown",
   "id": "3d89e334-008b-4e88-976b-107d12ce8e30",
   "metadata": {
    "jp-MarkdownHeadingCollapsed": true
   },
   "source": [
    "## Convert land cover to array"
   ]
  },
  {
   "cell_type": "code",
   "execution_count": 38,
   "id": "3855f921-9262-4503-82e1-f045001d15b7",
   "metadata": {},
   "outputs": [
    {
     "data": {
      "text/html": [
       "\n",
       "            <style>\n",
       "                .geemap-dark {\n",
       "                    --jp-widgets-color: white;\n",
       "                    --jp-widgets-label-color: white;\n",
       "                    --jp-ui-font-color1: white;\n",
       "                    --jp-layout-color2: #454545;\n",
       "                    background-color: #383838;\n",
       "                }\n",
       "\n",
       "                .geemap-dark .jupyter-button {\n",
       "                    --jp-layout-color3: #383838;\n",
       "                }\n",
       "\n",
       "                .geemap-colab {\n",
       "                    background-color: var(--colab-primary-surface-color, white);\n",
       "                }\n",
       "\n",
       "                .geemap-colab .jupyter-button {\n",
       "                    --jp-layout-color3: var(--colab-primary-surface-color, white);\n",
       "                }\n",
       "            </style>\n",
       "            "
      ],
      "text/plain": [
       "<IPython.core.display.HTML object>"
      ]
     },
     "metadata": {},
     "output_type": "display_data"
    },
    {
     "data": {
      "text/plain": [
       "1471069"
      ]
     },
     "execution_count": 38,
     "metadata": {},
     "output_type": "execute_result"
    }
   ],
   "source": [
    "g1_single = np.load('/home/users/clelland/Model/upscaled_tem_g1_single.npy')\n",
    "len(g1_single)"
   ]
  },
  {
   "cell_type": "code",
   "execution_count": 49,
   "id": "58135d7d-cf93-4653-b28a-50022510581b",
   "metadata": {},
   "outputs": [
    {
     "data": {
      "text/html": [
       "\n",
       "            <style>\n",
       "                .geemap-dark {\n",
       "                    --jp-widgets-color: white;\n",
       "                    --jp-widgets-label-color: white;\n",
       "                    --jp-ui-font-color1: white;\n",
       "                    --jp-layout-color2: #454545;\n",
       "                    background-color: #383838;\n",
       "                }\n",
       "\n",
       "                .geemap-dark .jupyter-button {\n",
       "                    --jp-layout-color3: #383838;\n",
       "                }\n",
       "\n",
       "                .geemap-colab {\n",
       "                    background-color: var(--colab-primary-surface-color, white);\n",
       "                }\n",
       "\n",
       "                .geemap-colab .jupyter-button {\n",
       "                    --jp-layout-color3: var(--colab-primary-surface-color, white);\n",
       "                }\n",
       "            </style>\n",
       "            "
      ],
      "text/plain": [
       "<IPython.core.display.HTML object>"
      ]
     },
     "metadata": {},
     "output_type": "display_data"
    },
    {
     "data": {
      "text/plain": [
       "300098076"
      ]
     },
     "execution_count": 49,
     "metadata": {},
     "output_type": "execute_result"
    }
   ],
   "source": [
    "X = 204\n",
    "repeated_g1 = np.tile(g1_single, (X, 1))\n",
    "len(repeated_g1)"
   ]
  },
  {
   "cell_type": "code",
   "execution_count": null,
   "id": "f6d1de3f-c5d5-4c85-9e76-40a8ff1ef5d4",
   "metadata": {},
   "outputs": [],
   "source": [
    "np.save('/gws/nopw/j04/bas_climate/users/clelland/model/testing_data/testing_2020_12_land_g1_array.npy', g1_single)"
   ]
  },
  {
   "cell_type": "code",
   "execution_count": null,
   "id": "14a566f7-b811-4609-84e0-487921e13e38",
   "metadata": {},
   "outputs": [],
   "source": []
  }
 ],
 "metadata": {
  "kernelspec": {
   "display_name": "Python 3 + Jaspy",
   "language": "python",
   "name": "jaspy"
  },
  "language_info": {
   "codemirror_mode": {
    "name": "ipython",
    "version": 3
   },
   "file_extension": ".py",
   "mimetype": "text/x-python",
   "name": "python",
   "nbconvert_exporter": "python",
   "pygments_lexer": "ipython3",
   "version": "3.11.9"
  }
 },
 "nbformat": 4,
 "nbformat_minor": 5
}
