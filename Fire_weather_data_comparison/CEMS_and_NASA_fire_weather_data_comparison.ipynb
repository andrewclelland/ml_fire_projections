{
 "cells": [
  {
   "cell_type": "markdown",
   "id": "57ae2e36-4797-4e58-9392-9dca6413ea41",
   "metadata": {},
   "source": [
    "# Comparison of CEMS and NASA-derived fire weather data\n",
    "\n",
    "It is preferable to use the `.py` files as the csv files are large and can cause crashes when using the Jupyter Notebook.\n",
    "\n",
    "However, on a local scale or for more detailed analysis, the comparison can be done here."
   ]
  },
  {
   "cell_type": "markdown",
   "id": "12751844-e81c-466b-b55f-d8915a6cc3fc",
   "metadata": {
    "jp-MarkdownHeadingCollapsed": true
   },
   "source": [
    "## Imports"
   ]
  },
  {
   "cell_type": "code",
   "execution_count": null,
   "id": "04aa33e9-3d65-4795-ac3f-f593400d94a1",
   "metadata": {},
   "outputs": [],
   "source": [
    "import matplotlib.pyplot as plt\n",
    "import pandas as pd\n",
    "import numpy as np\n",
    "import seaborn as sns\n",
    "import cartopy.crs as ccrs\n",
    "\n",
    "f = plt.figure(figsize=[4,6])"
   ]
  },
  {
   "cell_type": "markdown",
   "id": "069355dd-5953-4320-a27d-183ded354dcd",
   "metadata": {
    "jp-MarkdownHeadingCollapsed": true
   },
   "source": [
    "## All comparisons"
   ]
  },
  {
   "cell_type": "markdown",
   "id": "93a4861c-9677-4649-8a4a-fbfd731a644a",
   "metadata": {},
   "source": [
    "It is advised to only have 2 of the 3 csv files open at one time to avoid crashes"
   ]
  },
  {
   "cell_type": "code",
   "execution_count": null,
   "id": "f53875e3-d9d8-4456-987c-c78b417ec0e5",
   "metadata": {},
   "outputs": [],
   "source": [
    "cems_csv = pd.read_table('/home/users/clelland/Model/NASA_CEMS_comparison/cems_0114.csv', sep=\",\", index_col=['year', 'month'])\n",
    "cems_csv = cems_csv.rename(columns={'build_up_index': 'BUI', 'drought_code': 'DC', 'duff_moisture_code': 'DMC', 'fine_fuel_moisture_code': 'FFMC', 'fire_weather_index': 'FWI', 'initial_fire_spread_index': 'ISI'})\n",
    "cems_csv_reset = cems_csv.reset_index()"
   ]
  },
  {
   "cell_type": "code",
   "execution_count": null,
   "id": "65a1d406-5a0f-4e01-aa17-2331fac2a892",
   "metadata": {},
   "outputs": [],
   "source": [
    "access_csv = pd.read_table('/home/users/clelland/Model/NASA_CEMS_comparison/access_0114.csv', sep=\",\", index_col=['year', 'month'])\n",
    "access_csv_reset = access_csv.reset_index()"
   ]
  },
  {
   "cell_type": "code",
   "execution_count": null,
   "id": "012ca0b8-aa6e-42bd-9552-8705df060235",
   "metadata": {},
   "outputs": [],
   "source": [
    "mri_csv = pd.read_table('/home/users/clelland/Model/NASA_CEMS_comparison/mri_0114.csv', sep=\",\", index_col=['year', 'month'])\n",
    "mri_csv_reset = mri_csv.reset_index()"
   ]
  },
  {
   "cell_type": "code",
   "execution_count": null,
   "id": "c26a403e-ea62-4fc7-be9b-6ec9b8dfc492",
   "metadata": {},
   "outputs": [],
   "source": [
    "# Merge the dataframes on 'latitude' and 'longitude' columns, keeping only rows with matching lat/lon for the specified year\n",
    "#df_merged = cems_csv_reset.merge(access_csv_reset, on=['latitude', 'longitude', 'year', 'month'], how='inner')\n",
    "df_merged = access_csv_reset.merge(mri_csv_reset, on=['latitude', 'longitude', 'year', 'month'], how='inner')\n",
    "\n",
    "df_merged.set_index(['year', 'month', 'latitude', 'longitude'], inplace=True)\n",
    "df_merged = df_merged.round(3) # Round to 3dp\n",
    "df_merged"
   ]
  },
  {
   "cell_type": "code",
   "execution_count": null,
   "id": "c00680d4-c23c-48be-92e2-3fdac3e51772",
   "metadata": {},
   "outputs": [],
   "source": [
    "bui_corr = df_merged['BUI_x'].corr(df_merged['BUI_y'])\n",
    "dc_corr = df_merged['DC_x'].corr(df_merged['DC_y'])\n",
    "dmc_corr = df_merged['DMC_x'].corr(df_merged['DMC_y'])\n",
    "ffmc_corr = df_merged['FFMC_x'].corr(df_merged['FFMC_y'])\n",
    "fwi_corr = df_merged['FWI_x'].corr(df_merged['FWI_y'])\n",
    "isi_corr = df_merged['ISI_x'].corr(df_merged['ISI_y'])\n",
    "print(f'BUI: {bui_corr}')\n",
    "print(f'DC: {dc_corr}')\n",
    "print(f'DMC: {dmc_corr}')\n",
    "print(f'FFMC: {ffmc_corr}')\n",
    "print(f'FWI: {fwi_corr}')\n",
    "print(f'ISI: {isi_corr}')"
   ]
  },
  {
   "cell_type": "code",
   "execution_count": null,
   "id": "978c517b-7544-4a5f-8770-d070708ced9f",
   "metadata": {},
   "outputs": [],
   "source": [
    "print(df_merged['BUI_x'].min())\n",
    "print(df_merged['BUI_y'].min())\n",
    "print('-------')\n",
    "print(df_merged['DC_x'].min())\n",
    "print(df_merged['DC_y'].min())\n",
    "print('-------')\n",
    "print(df_merged['DMC_x'].min())\n",
    "print(df_merged['DMC_y'].min())\n",
    "print('-------')\n",
    "print(df_merged['FFMC_x'].min())\n",
    "print(df_merged['FFMC_y'].min())\n",
    "print('-------')\n",
    "print(df_merged['FWI_x'].min())\n",
    "print(df_merged['FWI_y'].min())\n",
    "print('-------')\n",
    "print(df_merged['ISI_x'].min())\n",
    "print(df_merged['ISI_y'].min())"
   ]
  },
  {
   "cell_type": "code",
   "execution_count": null,
   "id": "2614ccb2-991e-4fc5-8e10-6d495b2a4719",
   "metadata": {},
   "outputs": [],
   "source": [
    "# Expect min = 0\n",
    "print(df_merged['BUI_x'].max())\n",
    "print(df_merged['BUI_y'].max())\n",
    "print('-------')\n",
    "print(df_merged['DC_x'].max())\n",
    "print(df_merged['DC_y'].max())\n",
    "print('-------')\n",
    "print(df_merged['DMC_x'].max())\n",
    "print(df_merged['DMC_y'].max())\n",
    "print('-------')\n",
    "# FFMC min is 2\n",
    "print(df_merged['FFMC_x'].max())\n",
    "print(df_merged['FFMC_y'].max())\n",
    "print('-------')\n",
    "print(df_merged['FWI_x'].max())\n",
    "print(df_merged['FWI_y'].max())\n",
    "print('-------')\n",
    "print(df_merged['ISI_x'].max())\n",
    "print(df_merged['ISI_y'].max())"
   ]
  },
  {
   "cell_type": "code",
   "execution_count": null,
   "id": "69df52ac-bca0-4eca-8eeb-b05a82462e97",
   "metadata": {},
   "outputs": [],
   "source": [
    "# Filter the dataframe for more detailed analysis\n",
    "# Here we find erroneous DC values in the NASA-derived data\n",
    "df_fil = df_merged[(df_merged['DC_x'] > 2000) & (df_merged['DC_y'] > 2000)]\n",
    "df_fil"
   ]
  },
  {
   "cell_type": "code",
   "execution_count": null,
   "id": "27c5e08b-b6ad-466b-a1e1-0bca5d7e6d7d",
   "metadata": {},
   "outputs": [],
   "source": [
    "print(\"Mean DC: \", df_fil['DC_x'].mean())\n",
    "print(\"Mean lat: \", df_fil['latitude'].mean())\n",
    "print(\"Min lat: \", df_fil['latitude'].min())"
   ]
  },
  {
   "cell_type": "markdown",
   "id": "6f203a5e-1cec-4628-bbd2-36f5b64d5646",
   "metadata": {
    "jp-MarkdownHeadingCollapsed": true
   },
   "source": [
    "### Show lats and lons on a map"
   ]
  },
  {
   "cell_type": "code",
   "execution_count": null,
   "id": "1fbb5aa1-a6d6-4022-bfaa-6889f4b53e20",
   "metadata": {},
   "outputs": [],
   "source": [
    "# Find unique combinations of (latitude, longitude)\n",
    "unique_combinations = mri_csv[['latitude', 'longitude']].drop_duplicates()\n",
    "\n",
    "# Count the number of unique combinations\n",
    "num_unique_combinations = unique_combinations.shape[0]\n",
    "\n",
    "print(f\"Number of unique (latitude, longitude) combinations: {num_unique_combinations}\")"
   ]
  },
  {
   "cell_type": "code",
   "execution_count": null,
   "id": "5109b715-3777-460c-a715-4d24fe8ac67d",
   "metadata": {},
   "outputs": [],
   "source": [
    "# Find unique combinations of (latitude, longitude)\n",
    "unique_combinations = mri_csv.loc[2007, 1][['latitude', 'longitude']]\n",
    "\n",
    "# Set up the map\n",
    "fig, ax = plt.subplots(figsize=(10, 10), subplot_kw={'projection': ccrs.PlateCarree()})\n",
    "ax.set_title('Unique Latitude and Longitude Combinations')\n",
    "\n",
    "# Add coastlines and gridlines\n",
    "ax.coastlines()\n",
    "ax.gridlines(draw_labels=True)\n",
    "\n",
    "# Plot the unique latitude and longitude points\n",
    "ax.scatter(unique_combinations['longitude'], unique_combinations['latitude'],\n",
    "           color='red', marker='o', s=0.1, zorder=5)\n",
    "\n",
    "# Show the plot\n",
    "plt.show()"
   ]
  },
  {
   "cell_type": "markdown",
   "id": "92d0fe7e-a2e0-4406-8e3f-ca8992b09fee",
   "metadata": {
    "jp-MarkdownHeadingCollapsed": true
   },
   "source": [
    "### Plots"
   ]
  },
  {
   "cell_type": "code",
   "execution_count": null,
   "id": "daf55c1c-15d5-4c45-ae64-17641addd282",
   "metadata": {},
   "outputs": [],
   "source": [
    "df_fil = df_merged[(df_merged['DC_x'] < 1759) & (df_merged['DC_y'] < 1759)]\n",
    "\n",
    "x = df_fil['DC_x'].values\n",
    "y = df_fil['DC_y'].values\n",
    "\n",
    "# Calculate collocations\n",
    "xy_collocations = {}\n",
    "for i in range(len(x)):\n",
    "    xy = (x[i], y[i])\n",
    "    if xy in xy_collocations:\n",
    "        xy_collocations[xy] += 1\n",
    "    else:\n",
    "        xy_collocations[xy] = 1\n",
    "\n",
    "# Extract coordinates and counts\n",
    "coords = np.array(list(xy_collocations.keys()))\n",
    "counts = np.array(list(xy_collocations.values()))\n",
    "\n",
    "# Set up color map using logarithmic scale\n",
    "norm = plt.Normalize(0, 2) # Log scale min, max\n",
    "cmap = plt.cm.viridis\n",
    "\n",
    "# Plot the graph\n",
    "plt.figure(figsize=(8, 6))\n",
    "plt.scatter(coords[:, 0], coords[:, 1], c=np.log2(counts), cmap=cmap, norm=norm, s=1)\n",
    "plt.colorbar(label='Collocations Count (log scale)')\n",
    "\n",
    "# Calculate linear regression line\n",
    "m, b = np.polyfit(x, y, 1)\n",
    "plt.plot(x, m * x + b, color='red')\n",
    "\n",
    "# Plot y=x line\n",
    "plt.plot(np.linspace(0, 1759, 1759), np.linspace(0, 1759, 1759), color='blue')\n",
    "\n",
    "plt.xlabel('ACCESS DC reduced')\n",
    "plt.ylabel('MRI DC reduced')\n",
    "plt.savefig('ACCESS_vs_MRI_DC_reduced.png', dpi=600, bbox_inches='tight')\n",
    "plt.show()"
   ]
  },
  {
   "cell_type": "code",
   "execution_count": null,
   "id": "c01442af-a1c1-4cc0-84b7-90f09f479158",
   "metadata": {},
   "outputs": [],
   "source": [
    "# Boxplot\n",
    "df_plot = df_merged.copy()\n",
    "df_plot = df_plot.rename(columns={'DC_x': 'CEMS', 'DC_y': 'ACCESS', 'DC': 'MRI'})\n",
    "columns_to_plot = ['CEMS', 'ACCESS', 'MRI']\n",
    "\n",
    "ax = f.add_subplot(111)\n",
    "\n",
    "#ax = df_plot[columns_to_plot].boxplot()\n",
    "ax = df_plot[columns_to_plot].boxplot(showfliers=False) # No outliers\n",
    "\n",
    "# Add labels and title\n",
    "plt.title('DC ranges')\n",
    "ax.grid(False)\n",
    "\n",
    "# Show the plot\n",
    "#plt.savefig('isi_range_box_nooutliers.png', dpi=300, bbox_inches='tight')\n",
    "plt.show()"
   ]
  },
  {
   "cell_type": "code",
   "execution_count": null,
   "id": "53efc23d-77ff-4e6a-a853-5b1d9bfc8877",
   "metadata": {},
   "outputs": [],
   "source": [
    "# Calculate the Q1 (25th percentile) and Q3 (75th percentile)\n",
    "df_plot = df_merged.copy()\n",
    "df_plot = df_plot.rename(columns={'BUI_x': 'CEMS', 'BUI_y': 'ACCESS', 'BUI': 'MRI'})\n",
    "Q1 = df_plot['CEMS'].quantile(0.25)\n",
    "Q3 = df_plot['CEMS'].quantile(0.75)\n",
    "\n",
    "# Calculate the IQR\n",
    "IQR = Q3 - Q1\n",
    "\n",
    "# Define the upper whisker (maximum value within 1.5*IQR of Q3)\n",
    "upper_whisker = Q3 + 1.5 * IQR\n",
    "\n",
    "# Find the largest value that is less than or equal to the upper whisker\n",
    "upper_whisker_value = df_plot['CEMS'][df_plot['CEMS'] <= upper_whisker].max()\n",
    "\n",
    "print(\"Upper whisker value:\", upper_whisker_value)"
   ]
  },
  {
   "cell_type": "code",
   "execution_count": null,
   "id": "311f41ba-5c52-4395-97d5-7c791d362418",
   "metadata": {},
   "outputs": [],
   "source": [
    "# Violin plot\n",
    "df_plot = df_merged.copy()\n",
    "df_plot = df_plot.rename(columns={'BUI_x': 'CEMS', 'BUI_y': 'ACCESS', 'BUI': 'MRI'})\n",
    "\n",
    "# Extra code to hide outliers\n",
    "#df_plot = df_plot[(df_plot <= upper_whisker_value).all(axis=1)]\n",
    "\n",
    "columns_to_plot = ['CEMS', 'ACCESS', 'MRI']\n",
    "\n",
    "df_melted = df_plot[columns_to_plot].reset_index().melt(id_vars=['year', 'month', 'latitude', 'longitude'], \n",
    "                                                        value_vars=columns_to_plot, \n",
    "                                                        var_name='BUI Component', \n",
    "                                                        value_name='Value')\n",
    "\n",
    "ax = f.add_subplot(111)\n",
    "ax = sns.violinplot(x='BUI Component', y='Value', data=df_melted, palette='husl', hue='BUI Component')\n",
    "\n",
    "# Add labels and title\n",
    "plt.title('BUI ranges')\n",
    "plt.xlabel('')\n",
    "plt.ylabel('')\n",
    "\n",
    "# Show the plot\n",
    "plt.savefig('bui_range_violin.png', dpi=300, bbox_inches='tight')\n",
    "plt.show()"
   ]
  },
  {
   "cell_type": "code",
   "execution_count": null,
   "id": "c13886e8-5397-4d39-9f3e-b011dc7b3aac",
   "metadata": {},
   "outputs": [],
   "source": []
  }
 ],
 "metadata": {
  "kernelspec": {
   "display_name": "Python 3",
   "language": "python",
   "name": "python3"
  },
  "language_info": {
   "codemirror_mode": {
    "name": "ipython",
    "version": 3
   },
   "file_extension": ".py",
   "mimetype": "text/x-python",
   "name": "python",
   "nbconvert_exporter": "python",
   "pygments_lexer": "ipython3",
   "version": "3.11.13"
  }
 },
 "nbformat": 4,
 "nbformat_minor": 5
}
