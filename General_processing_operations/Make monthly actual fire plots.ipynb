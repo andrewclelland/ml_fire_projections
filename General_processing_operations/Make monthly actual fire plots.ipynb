{
 "cells": [
  {
   "cell_type": "code",
   "execution_count": null,
   "id": "c82272d8-2770-4b28-aa82-56a32277ac85",
   "metadata": {},
   "outputs": [],
   "source": [
    "import numpy as np\n",
    "import matplotlib.pyplot as plt\n",
    "import cartopy.crs as ccrs\n",
    "import cartopy.feature as cfeature"
   ]
  },
  {
   "cell_type": "code",
   "execution_count": null,
   "id": "3323398f-86c2-4f8e-981a-959b054f0b78",
   "metadata": {},
   "outputs": [],
   "source": [
    "lat_single = np.load('/home/users/clelland/Model/lat_north_single.npy')\n",
    "lon_single = np.load('/home/users/clelland/Model/lon_north_single.npy')\n",
    "fire_single = np.load('/gws/nopw/j04/bas_climate/users/clelland/model/testing_north/testing_north_2015_7_firecci_array.npy')"
   ]
  },
  {
   "cell_type": "code",
   "execution_count": null,
   "id": "3df71c94-2b51-406a-b93e-7105a46a3d3a",
   "metadata": {},
   "outputs": [],
   "source": [
    "lat_single = np.load('/home/users/clelland/Model/lat_south_single.npy')\n",
    "lon_single = np.load('/home/users/clelland/Model/lon_south_single.npy')\n",
    "fire_single = np.load('/gws/nopw/j04/bas_climate/users/clelland/model/testing_south/testing_south_2008_4_firecci_array.npy')"
   ]
  },
  {
   "cell_type": "code",
   "execution_count": null,
   "id": "be522aad-9223-42e2-abd6-cc2641c1aa42",
   "metadata": {},
   "outputs": [],
   "source": [
    "final_dict = {\n",
    "    'latitude': lat_single,\n",
    "    'longitude': lon_single,\n",
    "    'fire': fire_single}"
   ]
  },
  {
   "cell_type": "code",
   "execution_count": null,
   "id": "b2180196-4b5b-495e-8cfd-97b65defcc8f",
   "metadata": {},
   "outputs": [],
   "source": [
    "print(f\"Number of entries in lat: {len(final_dict['latitude'])}\")\n",
    "print(f\"Number of entries in lon: {len(final_dict['longitude'])}\")\n",
    "print(f\"Number of entries in fire: {len(final_dict['fire'])}\")"
   ]
  },
  {
   "cell_type": "code",
   "execution_count": null,
   "id": "664dea1b-024a-44c9-b360-4fdf98542714",
   "metadata": {},
   "outputs": [],
   "source": [
    "latitudes = final_dict['latitude']\n",
    "longitudes = final_dict['longitude']\n",
    "values = final_dict['fire']"
   ]
  },
  {
   "cell_type": "code",
   "execution_count": null,
   "id": "0d760be4-c3a9-4911-ab42-e2b59aed339c",
   "metadata": {},
   "outputs": [],
   "source": [
    "# Create a scatter plot\n",
    "plt.figure(figsize=(20, 8))\n",
    "ax = plt.axes(projection=ccrs.NorthPolarStereo())\n",
    "\n",
    "# Add map features\n",
    "ax.add_feature(cfeature.OCEAN, facecolor='lightblue')\n",
    "ax.add_feature(cfeature.LAKES, facecolor='lightblue')\n",
    "ax.add_feature(cfeature.LAND, facecolor='white')\n",
    "ax.add_feature(cfeature.BORDERS, linestyle=':')\n",
    "\n",
    "# Plot the data\n",
    "sc = plt.scatter(final_dict['longitude'], final_dict['latitude'], c=final_dict['fire'], \n",
    "                 cmap='viridis', s=1, marker='D', edgecolor='none', transform=ccrs.PlateCarree())\n",
    "\n",
    "# Add a color bar\n",
    "cbar = plt.colorbar(sc, orientation='vertical', pad=0.05)\n",
    "cbar.set_label('Burn')\n",
    "\n",
    "# Set the title and labels\n",
    "plt.title('Fire 2015-07')\n",
    "plt.xlabel('Longitude')\n",
    "plt.ylabel('Latitude')\n",
    "\n",
    "# Show the plot\n",
    "#plt.savefig('fire_real_202004.png', dpi=300, bbox_inches='tight', transparent=True)\n",
    "plt.show()"
   ]
  },
  {
   "cell_type": "code",
   "execution_count": null,
   "id": "53cd54cf-5936-4a42-b411-234632e3bfdd",
   "metadata": {},
   "outputs": [],
   "source": [
    "# Create a scatter plot\n",
    "plt.figure(figsize=(20, 8))\n",
    "ax = plt.axes(projection=ccrs.PlateCarree())\n",
    "\n",
    "# Add map features\n",
    "ax.add_feature(cfeature.OCEAN, facecolor='lightblue')\n",
    "ax.add_feature(cfeature.LAKES, facecolor='lightblue')\n",
    "ax.add_feature(cfeature.LAND, facecolor='white')\n",
    "ax.add_feature(cfeature.BORDERS, linestyle=':')\n",
    "\n",
    "# Plot the data\n",
    "sc = plt.scatter(final_dict['longitude'], final_dict['latitude'], c=final_dict['fire'], \n",
    "                 cmap='viridis', s=1, marker='D', edgecolor='none', transform=ccrs.PlateCarree())\n",
    "\n",
    "# Add a color bar\n",
    "cbar = plt.colorbar(sc, orientation='vertical', pad=0.05)\n",
    "cbar.set_label('Burn')\n",
    "\n",
    "# Set the title and labels\n",
    "plt.title('Fire 2008-04')\n",
    "plt.xlabel('Longitude')\n",
    "plt.ylabel('Latitude')\n",
    "\n",
    "# Show the plot\n",
    "#plt.savefig('fire_real_202004.png', dpi=300, bbox_inches='tight', transparent=True)\n",
    "plt.show()"
   ]
  },
  {
   "cell_type": "code",
   "execution_count": null,
   "id": "f89d1e63-c5d6-4b39-9017-ff850192ce6e",
   "metadata": {},
   "outputs": [],
   "source": []
  }
 ],
 "metadata": {
  "kernelspec": {
   "display_name": "Python 3 + Jaspy",
   "language": "python",
   "name": "jaspy"
  },
  "language_info": {
   "codemirror_mode": {
    "name": "ipython",
    "version": 3
   },
   "file_extension": ".py",
   "mimetype": "text/x-python",
   "name": "python",
   "nbconvert_exporter": "python",
   "pygments_lexer": "ipython3",
   "version": "3.11.9"
  }
 },
 "nbformat": 4,
 "nbformat_minor": 5
}
